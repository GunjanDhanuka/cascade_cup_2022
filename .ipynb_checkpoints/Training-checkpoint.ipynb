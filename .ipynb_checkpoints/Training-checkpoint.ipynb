{
 "cells": [
  {
   "cell_type": "code",
   "execution_count": 1,
   "metadata": {},
   "outputs": [],
   "source": [
    "%store -r train2\n",
    "%store -r test2"
   ]
  },
  {
   "cell_type": "code",
   "execution_count": 4,
   "metadata": {},
   "outputs": [],
   "source": [
    "train_df = pd.read_csv('train_preprocessed.csv')\n",
    "test_df = pd.read_csv('test_preprocessed.csv')"
   ]
  },
  {
   "cell_type": "code",
   "execution_count": 5,
   "metadata": {},
   "outputs": [
    {
     "data": {
      "text/html": [
       "<div>\n",
       "<style scoped>\n",
       "    .dataframe tbody tr th:only-of-type {\n",
       "        vertical-align: middle;\n",
       "    }\n",
       "\n",
       "    .dataframe tbody tr th {\n",
       "        vertical-align: top;\n",
       "    }\n",
       "\n",
       "    .dataframe thead th {\n",
       "        text-align: right;\n",
       "    }\n",
       "</style>\n",
       "<table border=\"1\" class=\"dataframe\">\n",
       "  <thead>\n",
       "    <tr style=\"text-align: right;\">\n",
       "      <th></th>\n",
       "      <th>first_mile_distance</th>\n",
       "      <th>last_mile_distance</th>\n",
       "      <th>alloted_orders</th>\n",
       "      <th>delivered_orders</th>\n",
       "      <th>cancelled</th>\n",
       "      <th>undelivered_orders</th>\n",
       "      <th>lifetime_order_count</th>\n",
       "      <th>reassigned_order</th>\n",
       "      <th>session_time</th>\n",
       "      <th>accept_order_diff</th>\n",
       "      <th>total_dist</th>\n",
       "      <th>first_order</th>\n",
       "      <th>cancel_before_accept</th>\n",
       "      <th>large_dist</th>\n",
       "      <th>weekday</th>\n",
       "    </tr>\n",
       "  </thead>\n",
       "  <tbody>\n",
       "    <tr>\n",
       "      <th>0</th>\n",
       "      <td>1.5666</td>\n",
       "      <td>2.65</td>\n",
       "      <td>46.0</td>\n",
       "      <td>46.0</td>\n",
       "      <td>0</td>\n",
       "      <td>0.0</td>\n",
       "      <td>621.0</td>\n",
       "      <td>0.0</td>\n",
       "      <td>175.550000</td>\n",
       "      <td>33.0</td>\n",
       "      <td>4.2166</td>\n",
       "      <td>1</td>\n",
       "      <td>0</td>\n",
       "      <td>0</td>\n",
       "      <td>1</td>\n",
       "    </tr>\n",
       "    <tr>\n",
       "      <th>1</th>\n",
       "      <td>2.5207</td>\n",
       "      <td>2.76</td>\n",
       "      <td>8.0</td>\n",
       "      <td>8.0</td>\n",
       "      <td>0</td>\n",
       "      <td>0.0</td>\n",
       "      <td>105.0</td>\n",
       "      <td>0.0</td>\n",
       "      <td>3.266667</td>\n",
       "      <td>89.0</td>\n",
       "      <td>5.2807</td>\n",
       "      <td>1</td>\n",
       "      <td>0</td>\n",
       "      <td>0</td>\n",
       "      <td>1</td>\n",
       "    </tr>\n",
       "    <tr>\n",
       "      <th>2</th>\n",
       "      <td>2.2074</td>\n",
       "      <td>4.80</td>\n",
       "      <td>1.0</td>\n",
       "      <td>1.0</td>\n",
       "      <td>0</td>\n",
       "      <td>0.0</td>\n",
       "      <td>66.0</td>\n",
       "      <td>0.0</td>\n",
       "      <td>9.816667</td>\n",
       "      <td>24.0</td>\n",
       "      <td>7.0074</td>\n",
       "      <td>1</td>\n",
       "      <td>0</td>\n",
       "      <td>0</td>\n",
       "      <td>1</td>\n",
       "    </tr>\n",
       "    <tr>\n",
       "      <th>3</th>\n",
       "      <td>2.1894</td>\n",
       "      <td>6.38</td>\n",
       "      <td>1.0</td>\n",
       "      <td>1.0</td>\n",
       "      <td>0</td>\n",
       "      <td>0.0</td>\n",
       "      <td>127.0</td>\n",
       "      <td>0.0</td>\n",
       "      <td>17.533333</td>\n",
       "      <td>73.0</td>\n",
       "      <td>8.5694</td>\n",
       "      <td>1</td>\n",
       "      <td>0</td>\n",
       "      <td>0</td>\n",
       "      <td>1</td>\n",
       "    </tr>\n",
       "    <tr>\n",
       "      <th>4</th>\n",
       "      <td>2.7870</td>\n",
       "      <td>4.01</td>\n",
       "      <td>34.0</td>\n",
       "      <td>34.0</td>\n",
       "      <td>0</td>\n",
       "      <td>0.0</td>\n",
       "      <td>84.0</td>\n",
       "      <td>0.0</td>\n",
       "      <td>1.350000</td>\n",
       "      <td>87.0</td>\n",
       "      <td>6.7970</td>\n",
       "      <td>1</td>\n",
       "      <td>0</td>\n",
       "      <td>0</td>\n",
       "      <td>1</td>\n",
       "    </tr>\n",
       "  </tbody>\n",
       "</table>\n",
       "</div>"
      ],
      "text/plain": [
       "   first_mile_distance  last_mile_distance  alloted_orders  delivered_orders  \\\n",
       "0               1.5666                2.65            46.0              46.0   \n",
       "1               2.5207                2.76             8.0               8.0   \n",
       "2               2.2074                4.80             1.0               1.0   \n",
       "3               2.1894                6.38             1.0               1.0   \n",
       "4               2.7870                4.01            34.0              34.0   \n",
       "\n",
       "   cancelled  undelivered_orders  lifetime_order_count  reassigned_order  \\\n",
       "0          0                 0.0                 621.0               0.0   \n",
       "1          0                 0.0                 105.0               0.0   \n",
       "2          0                 0.0                  66.0               0.0   \n",
       "3          0                 0.0                 127.0               0.0   \n",
       "4          0                 0.0                  84.0               0.0   \n",
       "\n",
       "   session_time  accept_order_diff  total_dist  first_order  \\\n",
       "0    175.550000               33.0      4.2166            1   \n",
       "1      3.266667               89.0      5.2807            1   \n",
       "2      9.816667               24.0      7.0074            1   \n",
       "3     17.533333               73.0      8.5694            1   \n",
       "4      1.350000               87.0      6.7970            1   \n",
       "\n",
       "   cancel_before_accept  large_dist  weekday  \n",
       "0                     0           0        1  \n",
       "1                     0           0        1  \n",
       "2                     0           0        1  \n",
       "3                     0           0        1  \n",
       "4                     0           0        1  "
      ]
     },
     "execution_count": 5,
     "metadata": {},
     "output_type": "execute_result"
    }
   ],
   "source": [
    "train_df.head()"
   ]
  },
  {
   "cell_type": "code",
   "execution_count": 6,
   "metadata": {},
   "outputs": [],
   "source": [
    "import numpy as np \n",
    "import pandas as pd \n",
    "import matplotlib.pyplot as plt\n",
    "import seaborn as sns\n",
    "\n",
    "# Supress Warnings\n",
    "import warnings\n",
    "warnings.filterwarnings('ignore')\n",
    "\n",
    "import gc\n",
    "from sklearn.preprocessing import RobustScaler\n",
    "from sklearn.preprocessing import StandardScaler\n",
    "from sklearn.preprocessing import MinMaxScaler\n",
    "\n",
    "from sklearn.model_selection import StratifiedKFold\n",
    "from sklearn.metrics import mean_squared_error, roc_auc_score\n",
    "from statistics import mean\n",
    "\n",
    "from lightgbm import LGBMClassifier\n",
    "from xgboost import XGBClassifier\n",
    "from catboost import CatBoostClassifier\n",
    "from sklearn.ensemble import RandomForestClassifier"
   ]
  },
  {
   "cell_type": "code",
   "execution_count": 7,
   "metadata": {},
   "outputs": [],
   "source": [
    "cols = train_df.drop('cancelled', axis=1).columns"
   ]
  },
  {
   "cell_type": "code",
   "execution_count": 8,
   "metadata": {},
   "outputs": [],
   "source": [
    "SAMPLE_RATE = 0.4\n",
    "RANDOM_SEED = 1\n",
    "EARLY_STOPPING_ROUND = 100"
   ]
  },
  {
   "cell_type": "code",
   "execution_count": 40,
   "metadata": {},
   "outputs": [],
   "source": [
    "import optuna\n",
    "\n",
    "x = train_df.drop(['cancelled'],axis=1).values\n",
    "y = train_df.cancelled.values\n",
    "val = np.zeros(train_df.shape[0])\n",
    "#pred = np.zeros(test_df.shape[0])\n",
    "\n",
    "def objective(trial):\n",
    "    pred = np.zeros(test_df.shape[0])\n",
    "    param = {}\n",
    "    param['learning_rate'] = trial.suggest_discrete_uniform(\"learning_rate\", 0.001, 0.02, 0.001)\n",
    "    param['depth'] = trial.suggest_int('depth', 9, 15)\n",
    "    param['l2_leaf_reg'] = trial.suggest_discrete_uniform('l2_leaf_reg', 1.0, 5.5, 0.5)\n",
    "    param['min_child_samples'] = trial.suggest_categorical('min_child_samples', [1, 4, 8, 16, 32])\n",
    "    param['grow_policy'] = 'Depthwise'\n",
    "    param['iterations'] = 10000\n",
    "    param['use_best_model'] = True\n",
    "    param['eval_metric'] = 'AUC'\n",
    "    param['task_type'] = 'GPU'\n",
    "    param['od_type'] = 'iter'\n",
    "    param['od_wait'] = 20\n",
    "    param['random_state'] = RANDOM_SEED\n",
    "    param['logging_level'] = 'Silent'\n",
    "\n",
    "    # Simple kfold implementation\n",
    "    folds = StratifiedKFold(n_splits=5,random_state=48,shuffle=True)\n",
    "    auc = np.empty(5)\n",
    "    \n",
    "    for fold_index, (train_index,val_index) in enumerate(folds.split(x,y)):\n",
    "        print('Batch {} started...'.format(fold_index))\n",
    "        gc.collect()\n",
    "        model = CatBoostClassifier(**param)\n",
    "        bst = model.fit(x[train_index],y[train_index],\n",
    "                  eval_set = [(x[val_index],y[val_index])],\n",
    "                  early_stopping_rounds=EARLY_STOPPING_ROUND,\n",
    "                  verbose= 0, \n",
    "                  )\n",
    "        val[val_index] = model.predict_proba(x[val_index])[:,1]\n",
    "        print('auc of this val set is {}'.format(roc_auc_score(y[val_index],val[val_index])))\n",
    "        #pred += model.predict_proba(test_df.drop(['order_id'],axis=1).values)[:,1]/folds.n_split\n",
    "        auc[fold_index] = roc_auc_score(y[val_index],val[val_index])\n",
    "    return np.mean(auc)"
   ]
  },
  {
   "cell_type": "code",
   "execution_count": 41,
   "metadata": {},
   "outputs": [
    {
     "name": "stderr",
     "output_type": "stream",
     "text": [
      "\u001b[32m[I 2022-02-05 12:56:34,464]\u001b[0m A new study created in memory with name: CATBClassifier\u001b[0m\n"
     ]
    },
    {
     "name": "stdout",
     "output_type": "stream",
     "text": [
      "Batch 0 started...\n",
      "auc of this val set is 0.7356070996888183\n",
      "Batch 1 started...\n",
      "auc of this val set is 0.7486424301587921\n",
      "Batch 2 started...\n",
      "auc of this val set is 0.7499018305834269\n",
      "Batch 3 started...\n",
      "auc of this val set is 0.7611603831779421\n",
      "Batch 4 started...\n"
     ]
    },
    {
     "name": "stderr",
     "output_type": "stream",
     "text": [
      "\u001b[32m[I 2022-02-05 12:57:41,234]\u001b[0m Trial 0 finished with value: 0.7496260949534103 and parameters: {'learning_rate': 0.012, 'depth': 9, 'l2_leaf_reg': 1.0, 'min_child_samples': 8}. Best is trial 0 with value: 0.7496260949534103.\u001b[0m\n"
     ]
    },
    {
     "name": "stdout",
     "output_type": "stream",
     "text": [
      "auc of this val set is 0.7528187311580716\n",
      "Batch 0 started...\n",
      "auc of this val set is 0.7340739653686192\n",
      "Batch 1 started...\n",
      "auc of this val set is 0.7445384295951492\n",
      "Batch 2 started...\n",
      "auc of this val set is 0.7429068531706837\n",
      "Batch 3 started...\n",
      "auc of this val set is 0.7588902275333848\n",
      "Batch 4 started...\n"
     ]
    },
    {
     "name": "stderr",
     "output_type": "stream",
     "text": [
      "\u001b[32m[I 2022-02-05 12:58:41,679]\u001b[0m Trial 1 finished with value: 0.7460739409280626 and parameters: {'learning_rate': 0.010000000000000002, 'depth': 14, 'l2_leaf_reg': 5.0, 'min_child_samples': 4}. Best is trial 0 with value: 0.7496260949534103.\u001b[0m\n"
     ]
    },
    {
     "name": "stdout",
     "output_type": "stream",
     "text": [
      "auc of this val set is 0.7499602289724757\n",
      "Batch 0 started...\n",
      "auc of this val set is 0.7344310760805707\n",
      "Batch 1 started...\n",
      "auc of this val set is 0.7442754102564404\n",
      "Batch 2 started...\n",
      "auc of this val set is 0.7516972853598982\n",
      "Batch 3 started...\n",
      "auc of this val set is 0.7545749780036761\n",
      "Batch 4 started...\n"
     ]
    },
    {
     "name": "stderr",
     "output_type": "stream",
     "text": [
      "\u001b[32m[I 2022-02-05 12:59:38,149]\u001b[0m Trial 2 finished with value: 0.7475063129310224 and parameters: {'learning_rate': 0.013000000000000001, 'depth': 9, 'l2_leaf_reg': 3.0, 'min_child_samples': 16}. Best is trial 0 with value: 0.7496260949534103.\u001b[0m\n"
     ]
    },
    {
     "name": "stdout",
     "output_type": "stream",
     "text": [
      "auc of this val set is 0.7525528149545272\n",
      "Batch 0 started...\n",
      "auc of this val set is 0.7334259797447464\n",
      "Batch 1 started...\n",
      "auc of this val set is 0.7491310155118089\n",
      "Batch 2 started...\n",
      "auc of this val set is 0.7454766102024006\n",
      "Batch 3 started...\n",
      "auc of this val set is 0.7609240206833494\n",
      "Batch 4 started...\n"
     ]
    },
    {
     "name": "stderr",
     "output_type": "stream",
     "text": [
      "\u001b[32m[I 2022-02-05 13:00:11,820]\u001b[0m Trial 3 finished with value: 0.7476477761367818 and parameters: {'learning_rate': 0.004, 'depth': 12, 'l2_leaf_reg': 5.5, 'min_child_samples': 4}. Best is trial 0 with value: 0.7496260949534103.\u001b[0m\n"
     ]
    },
    {
     "name": "stdout",
     "output_type": "stream",
     "text": [
      "auc of this val set is 0.7492812545416034\n",
      "Batch 0 started...\n",
      "auc of this val set is 0.734936782183461\n",
      "Batch 1 started...\n",
      "auc of this val set is 0.7463027344558977\n",
      "Batch 2 started...\n",
      "auc of this val set is 0.744606814312091\n",
      "Batch 3 started...\n",
      "auc of this val set is 0.759692805853994\n",
      "Batch 4 started...\n"
     ]
    },
    {
     "name": "stderr",
     "output_type": "stream",
     "text": [
      "\u001b[32m[I 2022-02-05 13:00:44,923]\u001b[0m Trial 4 finished with value: 0.7467087547395375 and parameters: {'learning_rate': 0.004, 'depth': 12, 'l2_leaf_reg': 5.5, 'min_child_samples': 8}. Best is trial 0 with value: 0.7496260949534103.\u001b[0m\n"
     ]
    },
    {
     "name": "stdout",
     "output_type": "stream",
     "text": [
      "auc of this val set is 0.7480046368922432\n",
      "Batch 0 started...\n",
      "auc of this val set is 0.7301166740572764\n",
      "Batch 1 started...\n",
      "auc of this val set is 0.7410146537775353\n",
      "Batch 2 started...\n",
      "auc of this val set is 0.7405878604756857\n",
      "Batch 3 started...\n",
      "auc of this val set is 0.7555060046044546\n",
      "Batch 4 started...\n"
     ]
    },
    {
     "name": "stderr",
     "output_type": "stream",
     "text": [
      "\u001b[32m[I 2022-02-05 13:02:21,646]\u001b[0m Trial 5 finished with value: 0.7414623526249826 and parameters: {'learning_rate': 0.011, 'depth': 15, 'l2_leaf_reg': 4.0, 'min_child_samples': 1}. Best is trial 0 with value: 0.7496260949534103.\u001b[0m\n"
     ]
    },
    {
     "name": "stdout",
     "output_type": "stream",
     "text": [
      "auc of this val set is 0.7400865702099613\n",
      "Batch 0 started...\n",
      "auc of this val set is 0.7313086921211818\n",
      "Batch 1 started...\n",
      "auc of this val set is 0.7459247199388598\n",
      "Batch 2 started...\n",
      "auc of this val set is 0.7443801750798836\n",
      "Batch 3 started...\n",
      "auc of this val set is 0.761621791280342\n",
      "Batch 4 started...\n"
     ]
    },
    {
     "name": "stderr",
     "output_type": "stream",
     "text": [
      "\u001b[32m[I 2022-02-05 13:02:51,427]\u001b[0m Trial 6 finished with value: 0.7459943576759865 and parameters: {'learning_rate': 0.004, 'depth': 12, 'l2_leaf_reg': 1.5, 'min_child_samples': 32}. Best is trial 0 with value: 0.7496260949534103.\u001b[0m\n"
     ]
    },
    {
     "name": "stdout",
     "output_type": "stream",
     "text": [
      "auc of this val set is 0.7467364099596655\n",
      "Batch 0 started...\n",
      "auc of this val set is 0.7366718195615017\n",
      "Batch 1 started...\n",
      "auc of this val set is 0.7454817036953585\n",
      "Batch 2 started...\n",
      "auc of this val set is 0.7414818783800989\n",
      "Batch 3 started...\n",
      "auc of this val set is 0.7621265287380441\n",
      "Batch 4 started...\n"
     ]
    },
    {
     "name": "stderr",
     "output_type": "stream",
     "text": [
      "\u001b[32m[I 2022-02-05 13:03:23,562]\u001b[0m Trial 7 finished with value: 0.7470855168584787 and parameters: {'learning_rate': 0.002, 'depth': 11, 'l2_leaf_reg': 5.5, 'min_child_samples': 8}. Best is trial 0 with value: 0.7496260949534103.\u001b[0m\n"
     ]
    },
    {
     "name": "stdout",
     "output_type": "stream",
     "text": [
      "auc of this val set is 0.7496656539173902\n",
      "Batch 0 started...\n",
      "auc of this val set is 0.7305829436957115\n",
      "Batch 1 started...\n",
      "auc of this val set is 0.7429276240858007\n",
      "Batch 2 started...\n",
      "auc of this val set is 0.7360043544279241\n",
      "Batch 3 started...\n",
      "auc of this val set is 0.7542488664592715\n",
      "Batch 4 started...\n"
     ]
    },
    {
     "name": "stderr",
     "output_type": "stream",
     "text": [
      "\u001b[32m[I 2022-02-05 13:05:13,216]\u001b[0m Trial 8 finished with value: 0.7424110135933288 and parameters: {'learning_rate': 0.012, 'depth': 15, 'l2_leaf_reg': 2.5, 'min_child_samples': 1}. Best is trial 0 with value: 0.7496260949534103.\u001b[0m\n"
     ]
    },
    {
     "name": "stdout",
     "output_type": "stream",
     "text": [
      "auc of this val set is 0.7482912792979363\n",
      "Batch 0 started...\n",
      "auc of this val set is 0.7272304562113461\n",
      "Batch 1 started...\n",
      "auc of this val set is 0.7379292920251439\n",
      "Batch 2 started...\n",
      "auc of this val set is 0.7411212508693867\n",
      "Batch 3 started...\n",
      "auc of this val set is 0.7526030239410624\n",
      "Batch 4 started...\n"
     ]
    },
    {
     "name": "stderr",
     "output_type": "stream",
     "text": [
      "\u001b[32m[I 2022-02-05 13:06:44,736]\u001b[0m Trial 9 finished with value: 0.7419957780667861 and parameters: {'learning_rate': 0.016, 'depth': 14, 'l2_leaf_reg': 2.5, 'min_child_samples': 8}. Best is trial 0 with value: 0.7496260949534103.\u001b[0m\n"
     ]
    },
    {
     "name": "stdout",
     "output_type": "stream",
     "text": [
      "auc of this val set is 0.7510948672869912\n"
     ]
    }
   ],
   "source": [
    "import optuna\n",
    "study = optuna.create_study(direction=\"maximize\", study_name=\"CATBClassifier\")\n",
    "study.optimize(objective, n_trials=10)"
   ]
  },
  {
   "cell_type": "code",
   "execution_count": 42,
   "metadata": {},
   "outputs": [
    {
     "data": {
      "text/plain": [
       "{'learning_rate': 0.012,\n",
       " 'depth': 9,\n",
       " 'l2_leaf_reg': 1.0,\n",
       " 'min_child_samples': 8}"
      ]
     },
     "execution_count": 42,
     "metadata": {},
     "output_type": "execute_result"
    }
   ],
   "source": [
    "study.best_trial.params"
   ]
  },
  {
   "cell_type": "markdown",
   "metadata": {},
   "source": [
    "## Stacking maybe"
   ]
  },
  {
   "cell_type": "code",
   "execution_count": 28,
   "metadata": {},
   "outputs": [],
   "source": [
    "def Stacker(model, model_name, fold, train_df, test_df):  \n",
    "    test_preds = np.zeros(test.shape[0])\n",
    "    train_preds = np.zeros(train.shape[0])\n",
    "\n",
    "    kf = StratifiedKFold(n_splits=fold,random_state=48,shuffle=True)\n",
    "    auc=[]\n",
    "    n=0\n",
    "\n",
    "    for train_index, test_index in kf.split(train[cols],train['cancelled']):\n",
    "\n",
    "        X_train, X_valid = train[cols].iloc[train_index], train[cols].iloc[test_index]\n",
    "        y_train, y_valid = train['cancelled'].iloc[train_index], train['cancelled'].iloc[test_index]\n",
    "\n",
    "        if model_name == 'catb':\n",
    "            model.fit(X_train, y_train, eval_set=[(X_valid, y_valid)], silent=True)\n",
    "        elif model_name == 'rad':\n",
    "            model.fit(X_train, y_train)\n",
    "        else:\n",
    "            model.fit(X_train, y_train, eval_set=[(X_valid, y_valid)], verbose=False)\n",
    "\n",
    "        test_preds += model.predict_proba(test[cols])[:,1]/kf.n_splits\n",
    "        train_preds += model.predict_proba(train[cols])[:,1]/kf.n_splits\n",
    "\n",
    "        auc.append(roc_auc_score(y_valid, model.predict_proba(X_valid)[:,1]))\n",
    "        \n",
    "        gc.collect()\n",
    "\n",
    "        print(f\"fold: {n+1}, auc: {auc[n]}\")\n",
    "        n+=1\n",
    "    \n",
    "    print('Average = ', np.mean(auc))\n",
    "    return train_preds, test_preds"
   ]
  },
  {
   "cell_type": "code",
   "execution_count": 20,
   "metadata": {},
   "outputs": [],
   "source": [
    "lgbm = LGBMClassifier()\n",
    "xgb = XGBClassifier()\n",
    "catb = CatBoostClassifier()\n",
    "rad = RandomForestClassifier()"
   ]
  },
  {
   "cell_type": "code",
   "execution_count": 21,
   "metadata": {},
   "outputs": [],
   "source": [
    "sample_submission = pd.read_csv('sample_submission.csv')"
   ]
  },
  {
   "cell_type": "code",
   "execution_count": 22,
   "metadata": {},
   "outputs": [
    {
     "name": "stdout",
     "output_type": "stream",
     "text": [
      "fold: 1, auc: 0.727904793886488\n",
      "fold: 2, auc: 0.7411527622376419\n",
      "fold: 3, auc: 0.7424162375940648\n",
      "fold: 4, auc: 0.7504487075619974\n",
      "fold: 5, auc: 0.7455636927724554\n",
      "Average =  0.7414972388105295\n"
     ]
    }
   ],
   "source": [
    "lgbm_train, lgbm_test = Stacker(lgbm, 'lgbm', 5, train_df, test_df)\n",
    "del lgbm\n",
    "gc.collect()\n",
    "\n",
    "sample_submission['cancelled'] = lgbm_test\n",
    "sample_submission.to_csv('lgbm_test.csv', index=False)"
   ]
  },
  {
   "cell_type": "code",
   "execution_count": 23,
   "metadata": {},
   "outputs": [
    {
     "name": "stdout",
     "output_type": "stream",
     "text": [
      "fold: 1, auc: 0.737421004606802\n",
      "fold: 2, auc: 0.7471484897995091\n",
      "fold: 3, auc: 0.747444332546169\n",
      "fold: 4, auc: 0.7649773989603366\n",
      "fold: 5, auc: 0.7559809050782192\n",
      "Average =  0.7505944261982072\n"
     ]
    }
   ],
   "source": [
    "catb_train, catb_test = Stacker(catb, 'catb',5, train_df, test_df)\n",
    "del catb\n",
    "gc.collect()\n",
    "\n",
    "sample_submission['cancelled'] = catb_test\n",
    "sample_submission.to_csv('catb_test.csv', index=False)"
   ]
  },
  {
   "cell_type": "code",
   "execution_count": 24,
   "metadata": {},
   "outputs": [
    {
     "name": "stdout",
     "output_type": "stream",
     "text": [
      "[12:16:32] WARNING: ../src/learner.cc:1115: Starting in XGBoost 1.3.0, the default evaluation metric used with the objective 'binary:logistic' was changed from 'error' to 'logloss'. Explicitly set eval_metric if you'd like to restore the old behavior.\n",
      "fold: 1, auc: 0.7186176627873179\n",
      "[12:16:41] WARNING: ../src/learner.cc:1115: Starting in XGBoost 1.3.0, the default evaluation metric used with the objective 'binary:logistic' was changed from 'error' to 'logloss'. Explicitly set eval_metric if you'd like to restore the old behavior.\n",
      "fold: 2, auc: 0.7257331046356104\n",
      "[12:16:51] WARNING: ../src/learner.cc:1115: Starting in XGBoost 1.3.0, the default evaluation metric used with the objective 'binary:logistic' was changed from 'error' to 'logloss'. Explicitly set eval_metric if you'd like to restore the old behavior.\n",
      "fold: 3, auc: 0.734505868328033\n",
      "[12:17:00] WARNING: ../src/learner.cc:1115: Starting in XGBoost 1.3.0, the default evaluation metric used with the objective 'binary:logistic' was changed from 'error' to 'logloss'. Explicitly set eval_metric if you'd like to restore the old behavior.\n",
      "fold: 4, auc: 0.7417689891976385\n",
      "[12:17:09] WARNING: ../src/learner.cc:1115: Starting in XGBoost 1.3.0, the default evaluation metric used with the objective 'binary:logistic' was changed from 'error' to 'logloss'. Explicitly set eval_metric if you'd like to restore the old behavior.\n",
      "fold: 5, auc: 0.7298070152384902\n",
      "Average =  0.730086528037418\n"
     ]
    }
   ],
   "source": [
    "xgb_train, xgb_test = Stacker(xgb, 'xgb', 5, train_df, test_df)\n",
    "del xgb\n",
    "gc.collect()\n",
    "\n",
    "sample_submission['cancelled'] = xgb_test\n",
    "sample_submission.to_csv('xgb_test.csv', index=False)"
   ]
  },
  {
   "cell_type": "code",
   "execution_count": 29,
   "metadata": {},
   "outputs": [
    {
     "name": "stdout",
     "output_type": "stream",
     "text": [
      "fold: 1, auc: 0.6899926258445981\n",
      "fold: 2, auc: 0.704478709487992\n",
      "fold: 3, auc: 0.700758588903309\n",
      "fold: 4, auc: 0.705158397435798\n",
      "fold: 5, auc: 0.6911811184664878\n",
      "Average =  0.6983138880276369\n"
     ]
    }
   ],
   "source": [
    "rad_train, rad_test = Stacker(rad, 'rad', 5, train_df, test_df)\n",
    "del rad\n",
    "gc.collect()\n",
    "\n",
    "sample_submission['cancelled'] = rad_test\n",
    "sample_submission.to_csv('rad_test.csv', index=False)"
   ]
  },
  {
   "cell_type": "code",
   "execution_count": 30,
   "metadata": {},
   "outputs": [],
   "source": [
    "stack_train = np.concatenate((catb_train.reshape(-1,1), lgbm_train.reshape(-1,1), xgb_train.reshape(-1,1)), axis = 1)\n",
    "stack_test = np.concatenate((catb_test.reshape(-1,1), lgbm_test.reshape(-1,1), xgb_test.reshape(-1,1)), axis = 1)\n",
    "\n",
    "gc.collect()\n",
    "\n",
    "stack_train = pd.DataFrame(stack_train, columns = ['catb', 'lgbm', 'xgb'])\n",
    "stack_test = pd.DataFrame(stack_test, columns = ['catb', 'lgbm', 'xgb'])\n"
   ]
  },
  {
   "cell_type": "code",
   "execution_count": 31,
   "metadata": {},
   "outputs": [],
   "source": [
    "stack_train.to_csv('stack_train.csv', index=True)\n",
    "stack_test.to_csv('stack_test.csv', index=True)"
   ]
  },
  {
   "cell_type": "code",
   "execution_count": 38,
   "metadata": {},
   "outputs": [
    {
     "name": "stdout",
     "output_type": "stream",
     "text": [
      "fold: 1, auc: 0.9376369383805297\n",
      "fold: 2, auc: 0.9405079539490304\n",
      "fold: 3, auc: 0.9470187293076485\n",
      "fold: 4, auc: 0.9451630613714233\n",
      "fold: 5, auc: 0.938182738667014\n"
     ]
    }
   ],
   "source": [
    "y = train_df['cancelled'].copy()\n",
    "\n",
    "from sklearn.linear_model import RidgeCV, LogisticRegressionCV, RidgeClassifierCV\n",
    "\n",
    "train_preds = np.zeros(stack_train.shape[0])\n",
    "test_preds = np.zeros(stack_test.shape[0])\n",
    "\n",
    "kf = StratifiedKFold(n_splits=5, random_state=2021, shuffle=True)\n",
    "auc=[]\n",
    "\n",
    "n=0\n",
    "for train_index, test_index in kf.split(stack_train, y):\n",
    "    \n",
    "    X_train, X_valid = stack_train.iloc[train_index], stack_train.iloc[test_index]\n",
    "    y_train, y_valid = y.iloc[train_index], y.iloc[test_index]\n",
    "    \n",
    "    lr = LogisticRegressionCV()\n",
    "    lr.fit(X_train, y_train)\n",
    "    \n",
    "    train_preds += lr.predict_proba(stack_train)[:,1]/kf.n_splits\n",
    "    test_preds += lr.predict_proba(stack_test)[:,1]/kf.n_splits\n",
    "    \n",
    "    auc.append(roc_auc_score(y_valid, lr.predict_proba(X_valid)[:,1]))\n",
    "    gc.collect()\n",
    "        \n",
    "    print(f\"fold: {n+1}, auc: {auc[n]}\")\n",
    "    n+=1"
   ]
  },
  {
   "cell_type": "code",
   "execution_count": 39,
   "metadata": {},
   "outputs": [],
   "source": [
    "sample_submission.cancelled = test_preds\n",
    "sample_submission.to_csv('stacks2.csv', index=False)"
   ]
  },
  {
   "cell_type": "code",
   "execution_count": null,
   "metadata": {},
   "outputs": [],
   "source": []
  }
 ],
 "metadata": {
  "kernelspec": {
   "display_name": "Python [conda env:root] *",
   "language": "python",
   "name": "conda-root-py"
  },
  "language_info": {
   "codemirror_mode": {
    "name": "ipython",
    "version": 3
   },
   "file_extension": ".py",
   "mimetype": "text/x-python",
   "name": "python",
   "nbconvert_exporter": "python",
   "pygments_lexer": "ipython3",
   "version": "3.8.5"
  }
 },
 "nbformat": 4,
 "nbformat_minor": 4
}
